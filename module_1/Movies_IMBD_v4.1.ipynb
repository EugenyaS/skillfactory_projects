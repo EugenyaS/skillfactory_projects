{
 "cells": [
  {
   "cell_type": "code",
   "execution_count": 1,
   "metadata": {
    "_cell_guid": "b1076dfc-b9ad-4769-8c92-a6c4dae69d19",
    "_uuid": "8f2839f25d086af736a60e9eeb907d3b93b6e0e5",
    "colab": {},
    "colab_type": "code",
    "id": "U2D2gTdJVp90"
   },
   "outputs": [],
   "source": [
    "import numpy as np\n",
    "import pandas as pd\n",
    "import seaborn as sns\n",
    "import matplotlib.pyplot as plt\n",
    "from collections import Counter"
   ]
  },
  {
   "cell_type": "code",
   "execution_count": 2,
   "metadata": {
    "_cell_guid": "79c7e3d0-c299-4dcb-8224-4455121ee9b0",
    "_uuid": "d629ff2d2480ee46fbb7e2d37f6b5fab8052498a",
    "colab": {},
    "colab_type": "code",
    "id": "oyGfxL3eVp9-"
   },
   "outputs": [
    {
     "data": {
      "text/html": [
       "<div>\n",
       "<style scoped>\n",
       "    .dataframe tbody tr th:only-of-type {\n",
       "        vertical-align: middle;\n",
       "    }\n",
       "\n",
       "    .dataframe tbody tr th {\n",
       "        vertical-align: top;\n",
       "    }\n",
       "\n",
       "    .dataframe thead th {\n",
       "        text-align: right;\n",
       "    }\n",
       "</style>\n",
       "<table border=\"1\" class=\"dataframe\">\n",
       "  <thead>\n",
       "    <tr style=\"text-align: right;\">\n",
       "      <th></th>\n",
       "      <th>imdb_id</th>\n",
       "      <th>budget</th>\n",
       "      <th>revenue</th>\n",
       "      <th>original_title</th>\n",
       "      <th>cast</th>\n",
       "      <th>director</th>\n",
       "      <th>tagline</th>\n",
       "      <th>overview</th>\n",
       "      <th>runtime</th>\n",
       "      <th>genres</th>\n",
       "      <th>production_companies</th>\n",
       "      <th>release_date</th>\n",
       "      <th>vote_average</th>\n",
       "      <th>release_year</th>\n",
       "    </tr>\n",
       "  </thead>\n",
       "  <tbody>\n",
       "    <tr>\n",
       "      <th>1838</th>\n",
       "      <td>tt0218967</td>\n",
       "      <td>60000000</td>\n",
       "      <td>124745083</td>\n",
       "      <td>The Family Man</td>\n",
       "      <td>Nicolas Cage|TÃ©a Leoni|Don Cheadle|Saul Rubin...</td>\n",
       "      <td>Brett Ratner</td>\n",
       "      <td>What if you made different choices? What if yo...</td>\n",
       "      <td>Jack's lavish, fast-paced lifestyle changes on...</td>\n",
       "      <td>125</td>\n",
       "      <td>Comedy|Drama|Romance|Fantasy</td>\n",
       "      <td>Universal Pictures</td>\n",
       "      <td>12/12/2000</td>\n",
       "      <td>6.4</td>\n",
       "      <td>2000</td>\n",
       "    </tr>\n",
       "    <tr>\n",
       "      <th>903</th>\n",
       "      <td>tt0278504</td>\n",
       "      <td>46000000</td>\n",
       "      <td>113714830</td>\n",
       "      <td>Insomnia</td>\n",
       "      <td>Al Pacino|Robin Williams|Maura Tierney|Hilary ...</td>\n",
       "      <td>Christopher Nolan</td>\n",
       "      <td>A tough cop. A brilliant killer. An unspeakabl...</td>\n",
       "      <td>Two Los Angeles homicide detectives are dispat...</td>\n",
       "      <td>118</td>\n",
       "      <td>Crime|Mystery|Thriller</td>\n",
       "      <td>Section Eight|Alcon Entertainment|Witt/Thomas ...</td>\n",
       "      <td>5/24/2002</td>\n",
       "      <td>6.6</td>\n",
       "      <td>2002</td>\n",
       "    </tr>\n",
       "    <tr>\n",
       "      <th>1580</th>\n",
       "      <td>tt0319262</td>\n",
       "      <td>125000000</td>\n",
       "      <td>544272402</td>\n",
       "      <td>The Day After Tomorrow</td>\n",
       "      <td>Dennis Quaid|Jake Gyllenhaal|Emmy Rossum|Dash ...</td>\n",
       "      <td>Roland Emmerich</td>\n",
       "      <td>Where will you be?</td>\n",
       "      <td>After years of unabated global warming, the gr...</td>\n",
       "      <td>124</td>\n",
       "      <td>Action|Adventure|Science Fiction|Thriller</td>\n",
       "      <td>Lions Gate Films|Twentieth Century Fox Film Co...</td>\n",
       "      <td>5/26/2004</td>\n",
       "      <td>6.1</td>\n",
       "      <td>2004</td>\n",
       "    </tr>\n",
       "    <tr>\n",
       "      <th>1303</th>\n",
       "      <td>tt1869716</td>\n",
       "      <td>6500000</td>\n",
       "      <td>2401510</td>\n",
       "      <td>The East</td>\n",
       "      <td>Brit Marling|Alexander SkarsgÃ¥rd|Ellen Page|T...</td>\n",
       "      <td>Zal Batmanglij</td>\n",
       "      <td>Spy on us, we'll spy on you.</td>\n",
       "      <td>An operative for an elite private intelligence...</td>\n",
       "      <td>116</td>\n",
       "      <td>Drama|Thriller</td>\n",
       "      <td>Scott Free Productions</td>\n",
       "      <td>5/31/2013</td>\n",
       "      <td>6.3</td>\n",
       "      <td>2013</td>\n",
       "    </tr>\n",
       "    <tr>\n",
       "      <th>1080</th>\n",
       "      <td>tt2215719</td>\n",
       "      <td>12000000</td>\n",
       "      <td>32726956</td>\n",
       "      <td>Katy Perry: Part of Me</td>\n",
       "      <td>Katy Perry|Russell Brand|Shannon Woodward|Rach...</td>\n",
       "      <td>Dan Cutforth|Jane Lipsitz</td>\n",
       "      <td>Be yourself and you can be anything</td>\n",
       "      <td>Giving fans unprecedented access to the real l...</td>\n",
       "      <td>93</td>\n",
       "      <td>Documentary|Music</td>\n",
       "      <td>Paramount Pictures|Imagine Entertainment|MTV F...</td>\n",
       "      <td>6/28/2012</td>\n",
       "      <td>6.5</td>\n",
       "      <td>2012</td>\n",
       "    </tr>\n",
       "  </tbody>\n",
       "</table>\n",
       "</div>"
      ],
      "text/plain": [
       "        imdb_id     budget    revenue          original_title  \\\n",
       "1838  tt0218967   60000000  124745083          The Family Man   \n",
       "903   tt0278504   46000000  113714830                Insomnia   \n",
       "1580  tt0319262  125000000  544272402  The Day After Tomorrow   \n",
       "1303  tt1869716    6500000    2401510                The East   \n",
       "1080  tt2215719   12000000   32726956  Katy Perry: Part of Me   \n",
       "\n",
       "                                                   cast  \\\n",
       "1838  Nicolas Cage|TÃ©a Leoni|Don Cheadle|Saul Rubin...   \n",
       "903   Al Pacino|Robin Williams|Maura Tierney|Hilary ...   \n",
       "1580  Dennis Quaid|Jake Gyllenhaal|Emmy Rossum|Dash ...   \n",
       "1303  Brit Marling|Alexander SkarsgÃ¥rd|Ellen Page|T...   \n",
       "1080  Katy Perry|Russell Brand|Shannon Woodward|Rach...   \n",
       "\n",
       "                       director  \\\n",
       "1838               Brett Ratner   \n",
       "903           Christopher Nolan   \n",
       "1580            Roland Emmerich   \n",
       "1303             Zal Batmanglij   \n",
       "1080  Dan Cutforth|Jane Lipsitz   \n",
       "\n",
       "                                                tagline  \\\n",
       "1838  What if you made different choices? What if yo...   \n",
       "903   A tough cop. A brilliant killer. An unspeakabl...   \n",
       "1580                                 Where will you be?   \n",
       "1303                       Spy on us, we'll spy on you.   \n",
       "1080                Be yourself and you can be anything   \n",
       "\n",
       "                                               overview  runtime  \\\n",
       "1838  Jack's lavish, fast-paced lifestyle changes on...      125   \n",
       "903   Two Los Angeles homicide detectives are dispat...      118   \n",
       "1580  After years of unabated global warming, the gr...      124   \n",
       "1303  An operative for an elite private intelligence...      116   \n",
       "1080  Giving fans unprecedented access to the real l...       93   \n",
       "\n",
       "                                         genres  \\\n",
       "1838               Comedy|Drama|Romance|Fantasy   \n",
       "903                      Crime|Mystery|Thriller   \n",
       "1580  Action|Adventure|Science Fiction|Thriller   \n",
       "1303                             Drama|Thriller   \n",
       "1080                          Documentary|Music   \n",
       "\n",
       "                                   production_companies release_date  \\\n",
       "1838                                 Universal Pictures   12/12/2000   \n",
       "903   Section Eight|Alcon Entertainment|Witt/Thomas ...    5/24/2002   \n",
       "1580  Lions Gate Films|Twentieth Century Fox Film Co...    5/26/2004   \n",
       "1303                             Scott Free Productions    5/31/2013   \n",
       "1080  Paramount Pictures|Imagine Entertainment|MTV F...    6/28/2012   \n",
       "\n",
       "      vote_average  release_year  \n",
       "1838           6.4          2000  \n",
       "903            6.6          2002  \n",
       "1580           6.1          2004  \n",
       "1303           6.3          2013  \n",
       "1080           6.5          2012  "
      ]
     },
     "execution_count": 2,
     "metadata": {},
     "output_type": "execute_result"
    }
   ],
   "source": [
    "data = pd.read_csv('movie_bd_v5.xls')\n",
    "data.sample(5)"
   ]
  },
  {
   "cell_type": "code",
   "execution_count": 3,
   "metadata": {
    "colab": {},
    "colab_type": "code",
    "id": "CoYUnagMVp-C"
   },
   "outputs": [
    {
     "data": {
      "text/html": [
       "<div>\n",
       "<style scoped>\n",
       "    .dataframe tbody tr th:only-of-type {\n",
       "        vertical-align: middle;\n",
       "    }\n",
       "\n",
       "    .dataframe tbody tr th {\n",
       "        vertical-align: top;\n",
       "    }\n",
       "\n",
       "    .dataframe thead th {\n",
       "        text-align: right;\n",
       "    }\n",
       "</style>\n",
       "<table border=\"1\" class=\"dataframe\">\n",
       "  <thead>\n",
       "    <tr style=\"text-align: right;\">\n",
       "      <th></th>\n",
       "      <th>budget</th>\n",
       "      <th>revenue</th>\n",
       "      <th>runtime</th>\n",
       "      <th>vote_average</th>\n",
       "      <th>release_year</th>\n",
       "    </tr>\n",
       "  </thead>\n",
       "  <tbody>\n",
       "    <tr>\n",
       "      <th>count</th>\n",
       "      <td>1.889000e+03</td>\n",
       "      <td>1.889000e+03</td>\n",
       "      <td>1889.000000</td>\n",
       "      <td>1889.000000</td>\n",
       "      <td>1889.000000</td>\n",
       "    </tr>\n",
       "    <tr>\n",
       "      <th>mean</th>\n",
       "      <td>5.431083e+07</td>\n",
       "      <td>1.553653e+08</td>\n",
       "      <td>109.658549</td>\n",
       "      <td>6.140762</td>\n",
       "      <td>2007.860773</td>\n",
       "    </tr>\n",
       "    <tr>\n",
       "      <th>std</th>\n",
       "      <td>4.858721e+07</td>\n",
       "      <td>2.146698e+08</td>\n",
       "      <td>18.017041</td>\n",
       "      <td>0.764763</td>\n",
       "      <td>4.468841</td>\n",
       "    </tr>\n",
       "    <tr>\n",
       "      <th>min</th>\n",
       "      <td>5.000000e+06</td>\n",
       "      <td>2.033165e+06</td>\n",
       "      <td>63.000000</td>\n",
       "      <td>3.300000</td>\n",
       "      <td>2000.000000</td>\n",
       "    </tr>\n",
       "    <tr>\n",
       "      <th>25%</th>\n",
       "      <td>2.000000e+07</td>\n",
       "      <td>3.456058e+07</td>\n",
       "      <td>97.000000</td>\n",
       "      <td>5.600000</td>\n",
       "      <td>2004.000000</td>\n",
       "    </tr>\n",
       "    <tr>\n",
       "      <th>50%</th>\n",
       "      <td>3.800000e+07</td>\n",
       "      <td>8.361541e+07</td>\n",
       "      <td>107.000000</td>\n",
       "      <td>6.100000</td>\n",
       "      <td>2008.000000</td>\n",
       "    </tr>\n",
       "    <tr>\n",
       "      <th>75%</th>\n",
       "      <td>7.200000e+07</td>\n",
       "      <td>1.782626e+08</td>\n",
       "      <td>120.000000</td>\n",
       "      <td>6.600000</td>\n",
       "      <td>2012.000000</td>\n",
       "    </tr>\n",
       "    <tr>\n",
       "      <th>max</th>\n",
       "      <td>3.800000e+08</td>\n",
       "      <td>2.781506e+09</td>\n",
       "      <td>214.000000</td>\n",
       "      <td>8.100000</td>\n",
       "      <td>2015.000000</td>\n",
       "    </tr>\n",
       "  </tbody>\n",
       "</table>\n",
       "</div>"
      ],
      "text/plain": [
       "             budget       revenue      runtime  vote_average  release_year\n",
       "count  1.889000e+03  1.889000e+03  1889.000000   1889.000000   1889.000000\n",
       "mean   5.431083e+07  1.553653e+08   109.658549      6.140762   2007.860773\n",
       "std    4.858721e+07  2.146698e+08    18.017041      0.764763      4.468841\n",
       "min    5.000000e+06  2.033165e+06    63.000000      3.300000   2000.000000\n",
       "25%    2.000000e+07  3.456058e+07    97.000000      5.600000   2004.000000\n",
       "50%    3.800000e+07  8.361541e+07   107.000000      6.100000   2008.000000\n",
       "75%    7.200000e+07  1.782626e+08   120.000000      6.600000   2012.000000\n",
       "max    3.800000e+08  2.781506e+09   214.000000      8.100000   2015.000000"
      ]
     },
     "execution_count": 3,
     "metadata": {},
     "output_type": "execute_result"
    }
   ],
   "source": [
    "data.describe()"
   ]
  },
  {
   "cell_type": "markdown",
   "metadata": {
    "colab_type": "text",
    "id": "DTIt7ezGVp-G"
   },
   "source": [
    "# Предобработка"
   ]
  },
  {
   "cell_type": "code",
   "execution_count": 4,
   "metadata": {},
   "outputs": [],
   "source": [
    "answers = {} # создадим словарь для ответов"
   ]
  },
  {
   "cell_type": "code",
   "execution_count": 5,
   "metadata": {
    "colab": {},
    "colab_type": "code",
    "id": "jNb40DwKVp-H"
   },
   "outputs": [],
   "source": [
    "\n",
    "# тут другие ваши предобработки колонок например:\n",
    "\n",
    "#the time given in the dataset is in string format.\n",
    "#So we need to change this in datetime format\n",
    "# ...\n",
    "data['release_date'] = pd.to_datetime(data['release_date'], format='%m/%d/%Y')\n",
    "data['profit'] = data['revenue'] - data['budget']\n",
    "data['release_month'] = data['release_date'].dt.month\n",
    "data['len_title'] = data.original_title.str.len()"
   ]
  },
  {
   "cell_type": "code",
   "execution_count": 6,
   "metadata": {},
   "outputs": [],
   "source": [
    "data['count_title_word'] = data.overview.str.split().str.len()"
   ]
  },
  {
   "cell_type": "code",
   "execution_count": 7,
   "metadata": {},
   "outputs": [],
   "source": [
    "def dict_df(data, column, sep = '|'):\n",
    "    \"\"\"Формируем новый dataframe по столбцу с перечислением\"\"\"\n",
    "    df =pd.DataFrame(columns=['imdb_id', column])\n",
    "    for row in data.itertuples():\n",
    "        column_value_list = getattr(row, column).split(sep)\n",
    "        for column_value in column_value_list:\n",
    "            df.loc[len(df)] = [row.imdb_id, column_value]\n",
    "    return df"
   ]
  },
  {
   "cell_type": "code",
   "execution_count": 8,
   "metadata": {},
   "outputs": [],
   "source": [
    "genres = dict_df(data,'genres')\n",
    "directors = dict_df(data,'director')\n",
    "casts = dict_df(data,'cast')\n",
    "productions = dict_df(data, 'production_companies')"
   ]
  },
  {
   "cell_type": "code",
   "execution_count": 9,
   "metadata": {},
   "outputs": [],
   "source": [
    "\"\"\"Унифицируем название 'Warner Bros' в данных\"\"\"\n",
    "uni_production_companies = (productions['production_companies']\n",
    "                                .unique().tolist())\n",
    "uni_production_companies = list(filter(lambda x: x.lower()\n",
    "                                       .find('warner') != -1\n",
    "                                        , uni_production_companies))\n",
    "productions.loc[(productions['production_companies']\n",
    "                 .isin(uni_production_companies)\n",
    "                 , 'production_companies')] = 'Warner Bros'"
   ]
  },
  {
   "cell_type": "code",
   "execution_count": 10,
   "metadata": {},
   "outputs": [],
   "source": [
    "RU_MONTH_VALUES = {\n",
    "    'Январь': 1,\n",
    "    'Февраль': 2,\n",
    "    'Март': 3,\n",
    "    'Апрель': 4,\n",
    "    'Май': 5,\n",
    "    'Июнь': 6,\n",
    "    'Июль': 7,\n",
    "    'Август': 8,\n",
    "    'Сентябрь': 9,\n",
    "    'Октябрь': 10,\n",
    "    'Ноябрь': 11,\n",
    "    'Декабрь': 12,\n",
    "}\n",
    "\n",
    "\n",
    "def int_value_to_ru_month(month):\n",
    "    \"\"\"Переводит номер месяца в русское название\"\"\"\n",
    "    for k, v in RU_MONTH_VALUES.items():\n",
    "        month = str(month).replace(str(v), k)\n",
    "    return month"
   ]
  },
  {
   "cell_type": "code",
   "execution_count": 11,
   "metadata": {},
   "outputs": [],
   "source": [
    " def in_one_pr(list_value, element):\n",
    "    \"\"\"проверяет содержатся ли все элементы element в list_value\"\"\"\n",
    "    for y in element:\n",
    "        if  not y in list_value.values:\n",
    "            return False\n",
    "    return True"
   ]
  },
  {
   "cell_type": "code",
   "execution_count": 12,
   "metadata": {},
   "outputs": [],
   "source": [
    "def cast_func(cast_list):\n",
    "    \"\"\"Разбивает актеров конкретного фильма по парам, оставляя уникальные пары\"\"\"\n",
    "    cast_together = []\n",
    "    for name_1 in cast_list:\n",
    "        for name_2 in cast_list:\n",
    "            if name_1 == name_2:\n",
    "                continue\n",
    "            cast_together += [[name_1, name_2]]\n",
    "    return cast_together"
   ]
  },
  {
   "cell_type": "markdown",
   "metadata": {
    "colab_type": "text",
    "id": "YxZaH-nPVp-L"
   },
   "source": [
    "# 1. У какого фильма из списка самый большой бюджет?"
   ]
  },
  {
   "cell_type": "markdown",
   "metadata": {
    "colab_type": "text",
    "id": "Nd-G5gX6Vp-M"
   },
   "source": [
    "Использовать варианты ответов в коде решения запрещено.    \n",
    "Вы думаете и в жизни у вас будут варианты ответов?)"
   ]
  },
  {
   "cell_type": "code",
   "execution_count": 13,
   "metadata": {
    "colab": {},
    "colab_type": "code",
    "id": "uVnXAY5RVp-O"
   },
   "outputs": [],
   "source": [
    "# в словарь вставляем номер вопроса и ваш ответ на него\n",
    "# Пример: \n",
    "answers['1'] = '2. Spider-Man 3 (tt0413300)'\n",
    "# запишите свой вариант ответа\n",
    "answers['1'] = '...'\n",
    "# если ответили верно, можете добавить комментарий со значком \"+\""
   ]
  },
  {
   "cell_type": "code",
   "execution_count": 14,
   "metadata": {
    "colab": {},
    "colab_type": "code",
    "id": "dZwb3m28Vp-S"
   },
   "outputs": [],
   "source": [
    "# тут пишем ваш код для решения данного вопроса:\n",
    "max_budget = data.budget.max()\n",
    "max_budget_films = data[data.budget == max_budget]\n",
    "answers['1'] = \"{}. {} ({})\".format(max_budget_films.index[0]\n",
    "                  , max_budget_films.loc[max_budget_films.index[0]\n",
    "                                         , 'original_title']\n",
    "                  , max_budget_films.loc[max_budget_films.index[0]\n",
    "                                         , 'imdb_id'])"
   ]
  },
  {
   "cell_type": "markdown",
   "metadata": {
    "colab_type": "text",
    "id": "FNRbbI3vVp-c"
   },
   "source": [
    "# 2. Какой из фильмов самый длительный (в минутах)?"
   ]
  },
  {
   "cell_type": "code",
   "execution_count": 15,
   "metadata": {
    "colab": {},
    "colab_type": "code",
    "id": "vHAoEXNTVp-d"
   },
   "outputs": [],
   "source": [
    "# думаю логику работы с этим словарем вы уже поняли, \n",
    "# по этому не буду больше его дублировать\n",
    "answers['2'] = '...'"
   ]
  },
  {
   "cell_type": "code",
   "execution_count": 16,
   "metadata": {
    "colab": {},
    "colab_type": "code",
    "id": "ot-VX2XrVp-g"
   },
   "outputs": [],
   "source": [
    "max_runtime = data.runtime.max()\n",
    "max_runtimes = data[data.runtime == max_runtime]\n",
    "answers['2'] = \"{}. {} ({})\".format(max_runtimes.index[0]\n",
    "                                    , max_runtimes.loc[max_runtimes.index[0]\n",
    "                                                       , 'original_title']\n",
    "                                    , max_runtimes.loc[max_runtimes.index[0]\n",
    "                                                       , 'imdb_id'])"
   ]
  },
  {
   "cell_type": "markdown",
   "metadata": {
    "colab_type": "text",
    "id": "bapLlpW8Vp-k"
   },
   "source": [
    "# 3. Какой из фильмов самый короткий (в минутах)?\n",
    "\n",
    "\n",
    "\n"
   ]
  },
  {
   "cell_type": "code",
   "execution_count": 17,
   "metadata": {
    "colab": {},
    "colab_type": "code",
    "id": "YBxaSHuAVp-l"
   },
   "outputs": [],
   "source": [
    "min_runtime = data.runtime.min()\n",
    "min_runtimes = data[data.runtime == min_runtime]\n",
    "answers['3'] = (\"{}. {} ({})\".format(min_runtimes.index[0]\n",
    "                                     , min_runtimes.loc[min_runtimes.index[0]\n",
    "                                                        , 'original_title']\n",
    "                                     , min_runtimes.loc[min_runtimes.index[0]\n",
    "                                                        , 'imdb_id']))"
   ]
  },
  {
   "cell_type": "markdown",
   "metadata": {
    "colab_type": "text",
    "id": "TfQbxbfNVp-p"
   },
   "source": [
    "# 4. Какова средняя длительность фильмов?\n"
   ]
  },
  {
   "cell_type": "code",
   "execution_count": 18,
   "metadata": {
    "colab": {},
    "colab_type": "code",
    "id": "5K6dKZYVVp-q"
   },
   "outputs": [],
   "source": [
    "mean_runtime = data.runtime.mean()\n",
    "answers['4'] = int(round(mean_runtime,0))"
   ]
  },
  {
   "cell_type": "markdown",
   "metadata": {
    "colab_type": "text",
    "id": "r5TvbnT_Vp-u"
   },
   "source": [
    "# 5. Каково медианное значение длительности фильмов? "
   ]
  },
  {
   "cell_type": "code",
   "execution_count": 19,
   "metadata": {
    "colab": {},
    "colab_type": "code",
    "id": "iBROplKnVp-v"
   },
   "outputs": [],
   "source": [
    "median_runtime = data.runtime.median()\n",
    "answers['5'] = int(round(median_runtime))"
   ]
  },
  {
   "cell_type": "markdown",
   "metadata": {
    "colab_type": "text",
    "id": "39P-deDSVp-y"
   },
   "source": [
    "# 6. Какой самый прибыльный фильм?\n",
    "#### Внимание! Здесь и далее под «прибылью» или «убытками» понимается разность между сборами и бюджетом фильма. (прибыль = сборы - бюджет) в нашем датасете это будет (profit = revenue - budget) "
   ]
  },
  {
   "cell_type": "code",
   "execution_count": 20,
   "metadata": {
    "colab": {},
    "colab_type": "code",
    "id": "UYZh4T9WVp-y"
   },
   "outputs": [],
   "source": [
    "# лучше код получения столбца profit вынести в Предобработку что в начале\n",
    "max_profit = data.profit.max()\n",
    "max_profit_films = data[data.profit == max_profit]\n",
    "answers['6'] = \"{}. {} ({})\".format(max_profit_films.index[0]\n",
    "                    , max_profit_films.loc[max_profit_films.index[0]\n",
    "                                           , 'original_title']\n",
    "                    , max_profit_films.loc[max_profit_films.index[0]\n",
    "                                           , 'imdb_id'])"
   ]
  },
  {
   "cell_type": "markdown",
   "metadata": {
    "colab_type": "text",
    "id": "M99JmIX4Vp-2"
   },
   "source": [
    "# 7. Какой фильм самый убыточный? "
   ]
  },
  {
   "cell_type": "code",
   "execution_count": 21,
   "metadata": {
    "colab": {},
    "colab_type": "code",
    "id": "w-D2m4XPVp-3"
   },
   "outputs": [],
   "source": [
    "min_profit = data.profit.min()\n",
    "min_profit_films = data[data.profit == min_profit]\n",
    "answers['7'] = \"{}. {} ({})\".format(min_profit_films.index[0]\n",
    "                    , min_profit_films.loc[min_profit_films.index[0]\n",
    "                                           , 'original_title']\n",
    "                    , min_profit_films.loc[min_profit_films.index[0]\n",
    "                                           , 'imdb_id'])"
   ]
  },
  {
   "cell_type": "markdown",
   "metadata": {
    "colab_type": "text",
    "id": "wEOM5ERVVp-6"
   },
   "source": [
    "# 8. У скольких фильмов из датасета объем сборов оказался выше бюджета?"
   ]
  },
  {
   "cell_type": "code",
   "execution_count": 22,
   "metadata": {
    "colab": {},
    "colab_type": "code",
    "id": "y00_7HD6Vp-7"
   },
   "outputs": [],
   "source": [
    "profits = data[data.profit > 0]\n",
    "answers['8'] = profits['original_title'].count()"
   ]
  },
  {
   "cell_type": "markdown",
   "metadata": {
    "colab_type": "text",
    "id": "xhpspA9KVp_A"
   },
   "source": [
    "# 9. Какой фильм оказался самым кассовым в 2008 году?"
   ]
  },
  {
   "cell_type": "code",
   "execution_count": 23,
   "metadata": {
    "colab": {},
    "colab_type": "code",
    "id": "MoUyQr9RVp_B"
   },
   "outputs": [],
   "source": [
    "max_profit_2008 = data[data.release_year == 2008].profit.max()\n",
    "max_profit_2008_films = data[(data.release_year == 2008)\n",
    "                             & (data.profit == max_profit_2008)]\n",
    "answers['9'] = \"{}. {} ({})\".format(max_profit_2008_films.index[0]\n",
    "                 , max_profit_2008_films.loc[max_profit_2008_films.index[0]\n",
    "                                             , 'original_title']\n",
    "                 , max_profit_2008_films.loc[max_profit_2008_films.index[0]\n",
    "                                             , 'imdb_id'])"
   ]
  },
  {
   "cell_type": "markdown",
   "metadata": {
    "colab_type": "text",
    "id": "Zi4hDKidVp_F"
   },
   "source": [
    "# 10. Самый убыточный фильм за период с 2012 по 2014 г. (включительно)?\n"
   ]
  },
  {
   "cell_type": "code",
   "execution_count": 24,
   "metadata": {
    "colab": {},
    "colab_type": "code",
    "id": "XqyRmufJVp_F"
   },
   "outputs": [],
   "source": [
    "min_profit_12_14 = data[(data.release_year >= 2012) \n",
    "                        & (data.release_year <= 2014)].profit.min()\n",
    "min_profit_12_14_films = data[(data.release_year >= 2012) \n",
    "                              & (data.release_year <= 2014) \n",
    "                              & (data.profit == min_profit_12_14)]\n",
    "answers['10'] = \"{}. {} ({})\".format(min_profit_12_14_films.index[0]\n",
    "                   , min_profit_12_14_films\n",
    "                                     .loc[min_profit_12_14_films.index[0]\n",
    "                                          , 'original_title']\n",
    "                   , min_profit_12_14_films\n",
    "                                     .loc[min_profit_12_14_films.index[0]\n",
    "                                          , 'imdb_id'])"
   ]
  },
  {
   "cell_type": "markdown",
   "metadata": {
    "colab_type": "text",
    "id": "EA7Sa9dkVp_I"
   },
   "source": [
    "# 11. Какого жанра фильмов больше всего?"
   ]
  },
  {
   "cell_type": "code",
   "execution_count": 25,
   "metadata": {
    "colab": {},
    "colab_type": "code",
    "id": "zsJAwJ8QVp_J"
   },
   "outputs": [],
   "source": [
    "# эту задачу тоже можно решать разными подходами, попробуй реализовать разные варианты\n",
    "# если будешь добавлять функцию - выноси ее в предобработку что в начале\n",
    "result = (genres.groupby('genres').count()\n",
    "          .sort_values(by='imdb_id', ascending = False)\n",
    "          .head(1).reset_index()\n",
    "         )\n",
    "answers['11'] = result.loc[0,'genres']"
   ]
  },
  {
   "cell_type": "markdown",
   "metadata": {
    "colab_type": "text",
    "id": "T9_bPWpkVp_Q"
   },
   "source": [
    "# 12. Фильмы какого жанра чаще всего становятся прибыльными? "
   ]
  },
  {
   "cell_type": "code",
   "execution_count": 26,
   "metadata": {
    "colab": {},
    "colab_type": "code",
    "id": "Tmt8MaK1Vp_R"
   },
   "outputs": [],
   "source": [
    "merged_profit = data[data.profit>0].merge(genres, on = 'imdb_id'\n",
    "                                          , how = 'inner'\n",
    "                                          , suffixes=('_left',''))\n",
    "result = (merged_profit.groupby('genres').count()\n",
    "          .sort_values(by='imdb_id', ascending = False)\n",
    "          .head(1).reset_index()\n",
    "         )\n",
    "answers['12'] = result.loc[0,'genres']"
   ]
  },
  {
   "cell_type": "markdown",
   "metadata": {
    "colab_type": "text",
    "id": "0F23bgsDVp_U"
   },
   "source": [
    "# 13. У какого режиссера самые большие суммарные кассовые сборы?"
   ]
  },
  {
   "cell_type": "code",
   "execution_count": 27,
   "metadata": {},
   "outputs": [],
   "source": [
    "merged_director = data.merge(directors, on = 'imdb_id'\n",
    "                             , how = 'inner'\n",
    "                             , suffixes=('_left',''))\n",
    "result = (merged_director.groupby('director').sum()\n",
    "          .sort_values(by='profit', ascending = False)\n",
    "          .head(1).reset_index()\n",
    "         )\n",
    "answers['13'] = result.loc[0,'director']"
   ]
  },
  {
   "cell_type": "markdown",
   "metadata": {
    "colab_type": "text",
    "id": "PsYC9FgRVp_a"
   },
   "source": [
    "# 14. Какой режисер снял больше всего фильмов в стиле Action?"
   ]
  },
  {
   "cell_type": "code",
   "execution_count": 28,
   "metadata": {
    "colab": {},
    "colab_type": "code",
    "id": "wd2M-wHeVp_b"
   },
   "outputs": [],
   "source": [
    "merged_genre_director =  directors.merge(genres, on = 'imdb_id'\n",
    "                                         , how = 'inner'\n",
    "                                         , suffixes=('_left',''))\n",
    "result = (merged_genre_director[merged_genre_director['genres'] == 'Action']\n",
    "            .groupby('director').count()\n",
    "              .sort_values(by='imdb_id', ascending = False)\n",
    "                  .head(1).reset_index()\n",
    "         )\n",
    "answers['14'] = result.loc[0,'director']"
   ]
  },
  {
   "cell_type": "markdown",
   "metadata": {
    "colab_type": "text",
    "id": "PQ0KciD7Vp_f"
   },
   "source": [
    "# 15. Фильмы с каким актером принесли самые высокие кассовые сборы в 2012 году? "
   ]
  },
  {
   "cell_type": "code",
   "execution_count": 29,
   "metadata": {
    "colab": {},
    "colab_type": "code",
    "id": "aga62oeKVp_g"
   },
   "outputs": [],
   "source": [
    "merged_cast = data.merge(casts, on = 'imdb_id'\n",
    "                         , how = 'inner'\n",
    "                         , suffixes=('_left',''))"
   ]
  },
  {
   "cell_type": "code",
   "execution_count": 30,
   "metadata": {},
   "outputs": [],
   "source": [
    "result = (merged_cast[merged_cast['release_year']== 2012]\n",
    "            .groupby('cast')[['revenue']].sum()\n",
    "              .sort_values(by='revenue', ascending = False)\n",
    "                  .head(1).reset_index()\n",
    "         )\n",
    "answers['15'] = result.loc[0,'cast']"
   ]
  },
  {
   "cell_type": "markdown",
   "metadata": {
    "colab_type": "text",
    "id": "mWHyyL7QVp_j"
   },
   "source": [
    "# 16. Какой актер снялся в большем количестве высокобюджетных фильмов?"
   ]
  },
  {
   "cell_type": "code",
   "execution_count": 31,
   "metadata": {
    "colab": {},
    "colab_type": "code",
    "id": "qQtmHKTFVp_k"
   },
   "outputs": [],
   "source": [
    "mean_budget = data.budget.mean()\n",
    "result = (merged_cast[merged_cast['budget']> mean_budget]\n",
    "          .groupby('cast').count()\n",
    "              .sort_values(by='imdb_id', ascending = False)\n",
    "                  .head(1).reset_index()\n",
    "         )\n",
    "answers['16'] = result.loc[0,'cast']"
   ]
  },
  {
   "cell_type": "markdown",
   "metadata": {
    "colab_type": "text",
    "id": "NIh6AaW5Vp_n"
   },
   "source": [
    "# 17. В фильмах какого жанра больше всего снимался Nicolas Cage? "
   ]
  },
  {
   "cell_type": "code",
   "execution_count": 32,
   "metadata": {
    "colab": {},
    "colab_type": "code",
    "id": "H74SJDIBVp_n"
   },
   "outputs": [],
   "source": [
    "merged_genre_director =  casts.merge(genres, on = 'imdb_id'\n",
    "                                     , how = 'inner'\n",
    "                                     , suffixes=('_left',''))\n",
    "result = (merged_genre_director[merged_genre_director['cast'] == 'Nicolas Cage']\n",
    "            .groupby('genres').count()\n",
    "                .sort_values(by='imdb_id', ascending = False)\n",
    "                  .head(1).reset_index()\n",
    "         )\n",
    "answers['17'] = result.loc[0,'genres']"
   ]
  },
  {
   "cell_type": "markdown",
   "metadata": {
    "colab_type": "text",
    "id": "RqOmPRfWVp_q"
   },
   "source": [
    "# 18. Самый убыточный фильм от Paramount Pictures"
   ]
  },
  {
   "cell_type": "code",
   "execution_count": 33,
   "metadata": {},
   "outputs": [],
   "source": [
    "merge_productions = data.merge(productions, on = 'imdb_id'\n",
    "                               , how = 'inner'\n",
    "                               , suffixes=('_left',''))"
   ]
  },
  {
   "cell_type": "code",
   "execution_count": 34,
   "metadata": {},
   "outputs": [],
   "source": [
    "result = (merge_productions[(merge_productions['production_companies'] \n",
    "                                == 'Paramount Pictures')]\n",
    "            .sort_values(by = 'profit').head(1)\n",
    "         )\n",
    "answers['18'] = \"{} ({})\".format(result.loc[result.index[0]\n",
    "                                            , 'original_title']\n",
    "                                 ,result.loc[result.index[0]\n",
    "                                             , 'imdb_id'])"
   ]
  },
  {
   "cell_type": "markdown",
   "metadata": {
    "colab_type": "text",
    "id": "vS8Ur6ddVp_u"
   },
   "source": [
    "# 19. Какой год стал самым успешным по суммарным кассовым сборам?"
   ]
  },
  {
   "cell_type": "code",
   "execution_count": 35,
   "metadata": {
    "colab": {},
    "colab_type": "code",
    "id": "Dnbt4GdIVp_v"
   },
   "outputs": [],
   "source": [
    "result = (data.groupby('release_year').sum()\n",
    "            .sort_values(by ='revenue', ascending = False)\n",
    "                  .head(1).reset_index()\n",
    "         )\n",
    "answers['19'] = result.loc[0,'release_year']"
   ]
  },
  {
   "cell_type": "markdown",
   "metadata": {
    "colab_type": "text",
    "id": "JAzJh4QAVp_z"
   },
   "source": [
    "# 20. Какой самый прибыльный год для студии Warner Bros?"
   ]
  },
  {
   "cell_type": "code",
   "execution_count": 36,
   "metadata": {
    "colab": {},
    "colab_type": "code",
    "id": "wgVu02DEVp_0"
   },
   "outputs": [],
   "source": [
    "result = (merge_productions[(merge_productions['production_companies']\n",
    "                                == 'Warner Bros')]\n",
    "            .groupby('release_year').sum()\n",
    "                .sort_values(by ='revenue', ascending = False)\n",
    "                  .head(1).reset_index()\n",
    "         )\n",
    "answers['20'] = result.loc[0,'release_year']"
   ]
  },
  {
   "cell_type": "markdown",
   "metadata": {
    "colab_type": "text",
    "id": "8Im1S2HRVp_4"
   },
   "source": [
    "# 21. В каком месяце за все годы суммарно вышло больше всего фильмов?"
   ]
  },
  {
   "cell_type": "code",
   "execution_count": 37,
   "metadata": {
    "colab": {},
    "colab_type": "code",
    "id": "lev6TH7gVp_4"
   },
   "outputs": [],
   "source": [
    "result = (data.groupby('release_month').count()\n",
    "              .sort_values(by ='imdb_id', ascending = False)\n",
    "                  .head(1).reset_index()\n",
    "         )\n",
    "answers['21'] = int_value_to_ru_month(result.loc[0,'release_month'])"
   ]
  },
  {
   "cell_type": "markdown",
   "metadata": {
    "colab_type": "text",
    "id": "uAJsZ_NeVp_7"
   },
   "source": [
    "# 22. Сколько суммарно вышло фильмов летом? (за июнь, июль, август)"
   ]
  },
  {
   "cell_type": "code",
   "execution_count": 38,
   "metadata": {
    "colab": {},
    "colab_type": "code",
    "id": "Aa-hEREoVp_8"
   },
   "outputs": [],
   "source": [
    "result = data[data['release_month'].isin([6,7,8])].count()\n",
    "result\n",
    "answers['22'] = result['imdb_id']"
   ]
  },
  {
   "cell_type": "markdown",
   "metadata": {
    "colab_type": "text",
    "id": "G94ppOY1VqAA"
   },
   "source": [
    "# 23. Для какого режиссера зима – самое продуктивное время года? "
   ]
  },
  {
   "cell_type": "code",
   "execution_count": 39,
   "metadata": {
    "colab": {},
    "colab_type": "code",
    "id": "RhNTsamuVqAB"
   },
   "outputs": [],
   "source": [
    "result = (merged_director[merged_director['release_month'].isin([12,1,2])]\n",
    "            .groupby('director').count()\n",
    "              .sort_values(by ='imdb_id', ascending = False)\n",
    "                  .head(1).reset_index()\n",
    "         )\n",
    "answers['23'] = result.loc[0,'director']"
   ]
  },
  {
   "cell_type": "markdown",
   "metadata": {
    "colab_type": "text",
    "id": "RBo0JVjVVqAF"
   },
   "source": [
    "# 24. Какая студия дает самые длинные названия своим фильмам по количеству символов?"
   ]
  },
  {
   "cell_type": "code",
   "execution_count": 40,
   "metadata": {
    "colab": {},
    "colab_type": "code",
    "id": "QRGS8L0iVqAG"
   },
   "outputs": [],
   "source": [
    "result = (merge_productions.groupby('production_companies').mean()\n",
    "              .sort_values(by='len_title', ascending = False)\n",
    "                  .head(1).reset_index()\n",
    "         )\n",
    "answers['24'] = result.loc[0,'production_companies']"
   ]
  },
  {
   "cell_type": "markdown",
   "metadata": {
    "colab_type": "text",
    "id": "9G0hbvR7VqAK"
   },
   "source": [
    "# 25. Описание фильмов какой студии в среднем самые длинные по количеству слов?"
   ]
  },
  {
   "cell_type": "code",
   "execution_count": 41,
   "metadata": {
    "colab": {},
    "colab_type": "code",
    "id": "Ge2GsLNxVqAK"
   },
   "outputs": [],
   "source": [
    "result = (merge_productions.groupby('production_companies').mean()\n",
    "              .sort_values(by='count_title_word', ascending = False)\n",
    "                  .head(1).reset_index()\n",
    "         )\n",
    "answers['25'] = result.loc[0,'production_companies']"
   ]
  },
  {
   "cell_type": "markdown",
   "metadata": {
    "colab_type": "text",
    "id": "FJ1AFt90VqAP"
   },
   "source": [
    "# 26. Какие фильмы входят в 1 процент лучших по рейтингу? \n",
    "по vote_average"
   ]
  },
  {
   "cell_type": "code",
   "execution_count": 42,
   "metadata": {
    "colab": {},
    "colab_type": "code",
    "id": "8qmJVq4CVqAQ"
   },
   "outputs": [],
   "source": [
    "one_of = [['Inside Out', 'The Dark Knight', '12 Years a Slave']\n",
    "          , ['BloodRayne'\n",
    "             , 'The Adventures of Rocky & Bullwinkle Batman Begins'\n",
    "             , 'The Lord of the Rings: The Return of the King']\n",
    "          , ['Upside Down 300'\n",
    "             , 'Lucky Number Slevin, Kill Bill: Vol. 1 Upside Down']\n",
    "          , ['Inside Out', 'Iron Man']]\n",
    "p = np.percentile(data['vote_average'], 99)\n",
    "result = data[data['vote_average']>p]\n",
    "answers['26'] = ', '.join([x for x in one_of \n",
    "                            if in_one_pr(result['original_title'], x)][0])"
   ]
  },
  {
   "cell_type": "markdown",
   "metadata": {
    "colab_type": "text",
    "id": "MdXsUXbCVqAV"
   },
   "source": [
    "# 27. Какие актеры чаще всего снимаются в одном фильме вместе?\n"
   ]
  },
  {
   "cell_type": "code",
   "execution_count": 43,
   "metadata": {},
   "outputs": [],
   "source": [
    "one_of = [['Johnny Depp', 'Helena Bonham Carter']\n",
    "          , ['Ben Stiller', 'Owen Wilson']\n",
    "          , ['Vin Diesel', 'Paul Walker']\n",
    "          , ['Adam Sandler', 'Kevin James']\n",
    "          , ['Daniel Radcliffe', 'Rupert Grint']]\n",
    "new_data_cast = data.copy()\n",
    "new_data_cast.cast = new_data_cast.cast.str.split('|')\n",
    "new_data_cast.cast = new_data_cast.cast.apply(cast_func)\n",
    "new_data_cast = new_data_cast.explode('cast')\n",
    "counts_pair = new_data_cast.cast.value_counts()\n",
    "max_val = counts_pair.max()\n",
    "counts_pair = counts_pair[counts_pair == max_val]\n",
    "for index, value in counts_pair.items():\n",
    "    if index in one_of:\n",
    "        answers['27'] = ' & '.join(index)"
   ]
  },
  {
   "cell_type": "markdown",
   "metadata": {
    "colab_type": "text",
    "id": "U0nONFnGVqAX"
   },
   "source": [
    "# Submission"
   ]
  },
  {
   "cell_type": "code",
   "execution_count": 44,
   "metadata": {
    "colab": {},
    "colab_type": "code",
    "id": "IfcaRO9-VqAX",
    "outputId": "0f132912-32bb-4196-c98c-abfbc4ad5a5f"
   },
   "outputs": [
    {
     "data": {
      "text/plain": [
       "{'1': '723. Pirates of the Caribbean: On Stranger Tides (tt1298650)',\n",
       " '2': '1157. Gods and Generals (tt0279111)',\n",
       " '3': '768. Winnie the Pooh (tt1449283)',\n",
       " '4': 110,\n",
       " '5': 107,\n",
       " '6': '239. Avatar (tt0499549)',\n",
       " '7': '1245. The Lone Ranger (tt1210819)',\n",
       " '8': 1478,\n",
       " '9': '599. The Dark Knight (tt0468569)',\n",
       " '10': '1245. The Lone Ranger (tt1210819)',\n",
       " '11': 'Drama',\n",
       " '12': 'Drama',\n",
       " '13': 'Peter Jackson',\n",
       " '14': 'Robert Rodriguez',\n",
       " '15': 'Chris Hemsworth',\n",
       " '16': 'Matt Damon',\n",
       " '17': 'Action',\n",
       " '18': 'K-19: The Widowmaker (tt0267626)',\n",
       " '19': 2015,\n",
       " '20': 2014,\n",
       " '21': 'Сентябрь',\n",
       " '22': 450,\n",
       " '23': 'Peter Jackson',\n",
       " '24': 'Four By Two Productions',\n",
       " '25': 'Midnight Picture Show',\n",
       " '26': 'Inside Out, The Dark Knight, 12 Years a Slave',\n",
       " '27': 'Daniel Radcliffe & Rupert Grint'}"
      ]
     },
     "execution_count": 44,
     "metadata": {},
     "output_type": "execute_result"
    }
   ],
   "source": [
    "# в конце можно посмотреть свои ответы к каждому вопросу\n",
    "answers"
   ]
  },
  {
   "cell_type": "code",
   "execution_count": 45,
   "metadata": {
    "colab": {},
    "colab_type": "code",
    "id": "SiRmHPl8VqAd"
   },
   "outputs": [
    {
     "data": {
      "text/plain": [
       "27"
      ]
     },
     "execution_count": 45,
     "metadata": {},
     "output_type": "execute_result"
    }
   ],
   "source": [
    "# и убедиться что ни чего не пропустил)\n",
    "len(answers)"
   ]
  }
 ],
 "metadata": {
  "colab": {
   "name": "Copy of [SF-DST] Movies IMBD v4.1 TEMPLATE.ipynb",
   "provenance": []
  },
  "kernelspec": {
   "display_name": "Python 3",
   "language": "python",
   "name": "python3"
  },
  "language_info": {
   "codemirror_mode": {
    "name": "ipython",
    "version": 3
   },
   "file_extension": ".py",
   "mimetype": "text/x-python",
   "name": "python",
   "nbconvert_exporter": "python",
   "pygments_lexer": "ipython3",
   "version": "3.8.3"
  }
 },
 "nbformat": 4,
 "nbformat_minor": 1
}
